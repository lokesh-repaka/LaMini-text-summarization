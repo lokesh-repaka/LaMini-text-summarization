{
  "cells": [
    {
      "cell_type": "markdown",
      "metadata": {
        "id": "yyoXhE_Asiq7"
      },
      "source": [
        "First install the openAI package"
      ]
    },
    {
      "cell_type": "code",
      "execution_count": null,
      "metadata": {
        "id": "BIrKqq2esirA",
        "colab": {
          "base_uri": "https://localhost:8080/"
        },
        "outputId": "c1410e4c-4c16-4f34-aa76-fc6f0f5335bc"
      },
      "outputs": [
        {
          "output_type": "stream",
          "name": "stdout",
          "text": [
            "Collecting openai\n",
            "  Downloading openai-1.36.1-py3-none-any.whl (328 kB)\n",
            "\u001b[2K     \u001b[90m━━━━━━━━━━━━━━━━━━━━━━━━━━━━━━━━━━━━━━━━\u001b[0m \u001b[32m328.8/328.8 kB\u001b[0m \u001b[31m4.9 MB/s\u001b[0m eta \u001b[36m0:00:00\u001b[0m\n",
            "\u001b[?25hRequirement already satisfied: anyio<5,>=3.5.0 in /usr/local/lib/python3.10/dist-packages (from openai) (3.7.1)\n",
            "Requirement already satisfied: distro<2,>=1.7.0 in /usr/lib/python3/dist-packages (from openai) (1.7.0)\n",
            "Collecting httpx<1,>=0.23.0 (from openai)\n",
            "  Downloading httpx-0.27.0-py3-none-any.whl (75 kB)\n",
            "\u001b[2K     \u001b[90m━━━━━━━━━━━━━━━━━━━━━━━━━━━━━━━━━━━━━━━━\u001b[0m \u001b[32m75.6/75.6 kB\u001b[0m \u001b[31m7.6 MB/s\u001b[0m eta \u001b[36m0:00:00\u001b[0m\n",
            "\u001b[?25hRequirement already satisfied: pydantic<3,>=1.9.0 in /usr/local/lib/python3.10/dist-packages (from openai) (2.8.2)\n",
            "Requirement already satisfied: sniffio in /usr/local/lib/python3.10/dist-packages (from openai) (1.3.1)\n",
            "Requirement already satisfied: tqdm>4 in /usr/local/lib/python3.10/dist-packages (from openai) (4.66.4)\n",
            "Requirement already satisfied: typing-extensions<5,>=4.7 in /usr/local/lib/python3.10/dist-packages (from openai) (4.12.2)\n",
            "Requirement already satisfied: idna>=2.8 in /usr/local/lib/python3.10/dist-packages (from anyio<5,>=3.5.0->openai) (3.7)\n",
            "Requirement already satisfied: exceptiongroup in /usr/local/lib/python3.10/dist-packages (from anyio<5,>=3.5.0->openai) (1.2.2)\n",
            "Requirement already satisfied: certifi in /usr/local/lib/python3.10/dist-packages (from httpx<1,>=0.23.0->openai) (2024.7.4)\n",
            "Collecting httpcore==1.* (from httpx<1,>=0.23.0->openai)\n",
            "  Downloading httpcore-1.0.5-py3-none-any.whl (77 kB)\n",
            "\u001b[2K     \u001b[90m━━━━━━━━━━━━━━━━━━━━━━━━━━━━━━━━━━━━━━━━\u001b[0m \u001b[32m77.9/77.9 kB\u001b[0m \u001b[31m9.4 MB/s\u001b[0m eta \u001b[36m0:00:00\u001b[0m\n",
            "\u001b[?25hCollecting h11<0.15,>=0.13 (from httpcore==1.*->httpx<1,>=0.23.0->openai)\n",
            "  Downloading h11-0.14.0-py3-none-any.whl (58 kB)\n",
            "\u001b[2K     \u001b[90m━━━━━━━━━━━━━━━━━━━━━━━━━━━━━━━━━━━━━━━━\u001b[0m \u001b[32m58.3/58.3 kB\u001b[0m \u001b[31m7.2 MB/s\u001b[0m eta \u001b[36m0:00:00\u001b[0m\n",
            "\u001b[?25hRequirement already satisfied: annotated-types>=0.4.0 in /usr/local/lib/python3.10/dist-packages (from pydantic<3,>=1.9.0->openai) (0.7.0)\n",
            "Requirement already satisfied: pydantic-core==2.20.1 in /usr/local/lib/python3.10/dist-packages (from pydantic<3,>=1.9.0->openai) (2.20.1)\n",
            "Installing collected packages: h11, httpcore, httpx, openai\n",
            "Successfully installed h11-0.14.0 httpcore-1.0.5 httpx-0.27.0 openai-1.36.1\n"
          ]
        }
      ],
      "source": [
        "!pip install --upgrade openai"
      ]
    },
    {
      "cell_type": "markdown",
      "metadata": {
        "id": "fOsEnk0ssirB"
      },
      "source": [
        "Import the libraries you need"
      ]
    },
    {
      "cell_type": "code",
      "execution_count": null,
      "metadata": {
        "id": "VaG9jbtWsirC"
      },
      "outputs": [],
      "source": [
        "from openai import OpenAI\n",
        "import os"
      ]
    },
    {
      "cell_type": "markdown",
      "metadata": {
        "id": "agCMBp3JsirC"
      },
      "source": [
        "Test out the connection"
      ]
    },
    {
      "cell_type": "code",
      "source": [
        "!pip install python-dotenv"
      ],
      "metadata": {
        "colab": {
          "base_uri": "https://localhost:8080/"
        },
        "id": "_8OzaiGSuUr3",
        "outputId": "36078f00-3b5a-4ea0-b8af-a13b3638c2c1"
      },
      "execution_count": null,
      "outputs": [
        {
          "output_type": "stream",
          "name": "stdout",
          "text": [
            "Collecting python-dotenv\n",
            "  Downloading python_dotenv-1.0.1-py3-none-any.whl (19 kB)\n",
            "Installing collected packages: python-dotenv\n",
            "Successfully installed python-dotenv-1.0.1\n"
          ]
        }
      ]
    },
    {
      "cell_type": "code",
      "source": [
        "from dotenv import load_dotenv\n",
        "\n",
        "load_dotenv()"
      ],
      "metadata": {
        "colab": {
          "base_uri": "https://localhost:8080/"
        },
        "id": "tHZDRGsnuUVZ",
        "outputId": "f1394c6c-147f-4712-9bd6-c4a7782dbe74"
      },
      "execution_count": null,
      "outputs": [
        {
          "output_type": "execute_result",
          "data": {
            "text/plain": [
              "True"
            ]
          },
          "metadata": {},
          "execution_count": 5
        }
      ]
    },
    {
      "cell_type": "code",
      "execution_count": null,
      "metadata": {
        "id": "7U39GQ4-sirD",
        "outputId": "7068f324-3a93-4dd1-d883-c8c19516e0ff",
        "colab": {
          "base_uri": "https://localhost:8080/"
        }
      },
      "outputs": [
        {
          "output_type": "stream",
          "name": "stdout",
          "text": [
            "ChatCompletionMessage(content=\"In the realm of code, a concept so sweet,\\nRecursion dances with each heartbeat.\\nA function that calls itself anew,\\nA cycle of magic, a tale so true.\\n\\nLike a mirror reflecting its own reflection,\\nRecursion dives deep with each affection.\\nTo solve problems large or small,\\nIt answers the programmer's call.\\n\\nFrom fibonnaci to traversing trees,\\nRecursion flows with effortless ease.\\nBreaking down tasks into parts so small,\\nIt conquers challenges, standing tall.\\n\\nBut beware, for infinite loops may lurk,\\nWithout a base case, your code may irk.\\nA delicate balance, a fine line to tread,\\nIn recursion's dance, the mind is led.\\n\\nSo embrace this concept, elegant and rare,\\nLet recursion guide you with utmost care.\\nIn the symphony of code, let it sing,\\nRecursion, the magic that programming brings.\", role='assistant', function_call=None, tool_calls=None)\n"
          ]
        }
      ],
      "source": [
        "# Instantiate a client to ChatGPT and grab the API key from the .env file\n",
        "client = OpenAI(\n",
        "    api_key=os.environ.get(\"OPENAI_API_KEY\")\n",
        ")\n",
        "\n",
        "\n",
        "completion = client.chat.completions.create(\n",
        "  model=\"gpt-3.5-turbo\",\n",
        "  messages=[\n",
        "    {\"role\": \"system\", \"content\": \"You are a poetic assistant, skilled in explaining complex programming concepts with creative flair.\"},\n",
        "    {\"role\": \"user\", \"content\": \"Compose a poem that explains the concept of recursion in programming.\"}\n",
        "  ]\n",
        ")\n",
        "\n",
        "print(completion.choices[0].message)"
      ]
    },
    {
      "cell_type": "code",
      "execution_count": null,
      "metadata": {
        "id": "glgcNCb1sirE",
        "outputId": "79391175-655a-48ae-ffea-635fa97dd178",
        "colab": {
          "base_uri": "https://localhost:8080/"
        }
      },
      "outputs": [
        {
          "output_type": "stream",
          "name": "stdout",
          "text": [
            "In the realm of code, a concept so sweet,\n",
            "Recursion dances with each heartbeat.\n",
            "A function that calls itself anew,\n",
            "A cycle of magic, a tale so true.\n",
            "\n",
            "Like a mirror reflecting its own reflection,\n",
            "Recursion dives deep with each affection.\n",
            "To solve problems large or small,\n",
            "It answers the programmer's call.\n",
            "\n",
            "From fibonnaci to traversing trees,\n",
            "Recursion flows with effortless ease.\n",
            "Breaking down tasks into parts so small,\n",
            "It conquers challenges, standing tall.\n",
            "\n",
            "But beware, for infinite loops may lurk,\n",
            "Without a base case, your code may irk.\n",
            "A delicate balance, a fine line to tread,\n",
            "In recursion's dance, the mind is led.\n",
            "\n",
            "So embrace this concept, elegant and rare,\n",
            "Let recursion guide you with utmost care.\n",
            "In the symphony of code, let it sing,\n",
            "Recursion, the magic that programming brings.\n"
          ]
        }
      ],
      "source": [
        "print(completion.choices[0].message.content)"
      ]
    },
    {
      "cell_type": "code",
      "execution_count": null,
      "metadata": {
        "id": "wR3n-CYVsirF"
      },
      "outputs": [],
      "source": [
        "# Close the client after the above test\n",
        "client.close()"
      ]
    },
    {
      "cell_type": "markdown",
      "metadata": {
        "id": "0zBkhtHRsirF"
      },
      "source": [
        "Write the Text Summarizer class"
      ]
    },
    {
      "cell_type": "code",
      "execution_count": null,
      "metadata": {
        "id": "_2FPfYgcsirG"
      },
      "outputs": [],
      "source": [
        "class TextSummarizer:\n",
        "\n",
        "    # ChatGPT model that we will be using everywhere\n",
        "    openai_model = \"gpt-3.5-turbo\"\n",
        "\n",
        "\n",
        "    # Constructor\n",
        "    def __init__(self):\n",
        "        self.apikey = self.fetch_api_key()\n",
        "\n",
        "\n",
        "    # Method to get API key\n",
        "    def fetch_api_key(self):\n",
        "        # In here would be all the code required to fetch the api key ...\n",
        "        return os.environ.get(\"OPENAI_API_KEY\")\n",
        "\n",
        "\n",
        "    # Method to take list of sentences and return summarized/average single sentence\n",
        "    def average_sentences(self, list_of_sentences):\n",
        "        # Instantiate the client\n",
        "        client = OpenAI(api_key=self.apikey)\n",
        "\n",
        "        # Write prompt to chatGPT to execute our task\n",
        "        prompt = \"Here is a list of multiple sentences that I want you to summarize and rewrite as a single sentence that is roughly the same length as the input sentences. The sentences are separated by newline characters \\n as follows: {sentences}\"\n",
        "        prompt = prompt.format(sentences = \"\\n\".join(list_of_sentences))\n",
        "\n",
        "        # Make request to chat GPT\n",
        "        completion = client.chat.completions.create(\n",
        "            model=self.openai_model,\n",
        "            messages=[\n",
        "                {\"role\": \"system\", \"content\": \"You are an assistant that is able to read several sentences and then combine them into a single summarized sentence. The sentences will be sent to you with a newline character \\n separating them. You will return a single sentence.\"},\n",
        "                {\"role\": \"user\", \"content\": prompt}\n",
        "            ]\n",
        "        )\n",
        "\n",
        "        # Get the summarized sentence output from Chat GPT\n",
        "        summarized_sentence = completion.choices[0].message.content\n",
        "\n",
        "        # Close the client\n",
        "        client.close()\n",
        "\n",
        "        return summarized_sentence\n",
        "\n",
        "    # Method to summarize a piece of text\n",
        "    def summarize_text(self, input_text):\n",
        "        # Instantiate the client\n",
        "        client = OpenAI(api_key=self.apikey)\n",
        "\n",
        "\n",
        "        # Make request to chat GPT\n",
        "        completion = client.chat.completions.create(\n",
        "            model=self.openai_model,\n",
        "            messages=[\n",
        "                {\"role\": \"system\", \"content\": \"You are an assistant that is able to read a piece of text and summarize it. Your summary will be 10 sentences or less.\"},\n",
        "                {\"role\": \"user\", \"content\": \"Here is the text to be summarized below the newline character.\\n {text}\".format(text=input_text)}\n",
        "            ]\n",
        "        )\n",
        "\n",
        "        # Get the summary of the inptu text output from Chat GPT\n",
        "        summary_output = completion.choices[0].message.content\n",
        "\n",
        "        # Close the client\n",
        "        client.close()\n",
        "\n",
        "        return summary_output\n",
        "\n",
        "\n",
        "    # Method to consolidated job titles\n",
        "    def consolidate_job_titles(self, job_titles):\n",
        "        # Instantiate the client\n",
        "        client = OpenAI(api_key=self.apikey)\n",
        "\n",
        "        # Write prompt\n",
        "        prompt = \"Here is the list of job titles separated by newline characters \\n for you to combine and consolidate down into a single job title that represents the entire list. \\n {list_of_titles}\"\n",
        "        prompt = prompt.format(list_of_titles = job_titles)\n",
        "\n",
        "        # Make request to chat GPT\n",
        "        completion = client.chat.completions.create(\n",
        "            model=self.openai_model,\n",
        "            messages=[\n",
        "                {\"role\": \"system\", \"content\": \"You are an assistant that can read a list of job titles which are all the same job title but are written slightly differently with different variations and possibly with typos. You are an expert at reading the list of job titles (with all their variations) and returning back a single job title that represents the entire input group.\"},\n",
        "                {\"role\": \"user\", \"content\": prompt}\n",
        "            ]\n",
        "        )\n",
        "\n",
        "        # Get the summary of the inptu text output from Chat GPT\n",
        "        consolidated_job_title = completion.choices[0].message.content\n",
        "\n",
        "        # Close the client\n",
        "        client.close()\n",
        "\n",
        "        return consolidated_job_title\n",
        "\n",
        "\n",
        "\n"
      ]
    },
    {
      "cell_type": "markdown",
      "metadata": {
        "id": "zL86B8F6sirH"
      },
      "source": [
        "Instantiate the class"
      ]
    },
    {
      "cell_type": "code",
      "execution_count": null,
      "metadata": {
        "id": "klbK0h0wsirH"
      },
      "outputs": [],
      "source": [
        "gpt_summarizer = TextSummarizer()"
      ]
    },
    {
      "cell_type": "markdown",
      "metadata": {
        "id": "k8wKYAQhsirI"
      },
      "source": [
        "Try out the sentence averager"
      ]
    },
    {
      "cell_type": "code",
      "execution_count": null,
      "metadata": {
        "id": "qF1eirh4sirI",
        "outputId": "1fdbdbf8-116f-4e80-ece5-71435c4baea1",
        "colab": {
          "base_uri": "https://localhost:8080/"
        }
      },
      "outputs": [
        {
          "output_type": "stream",
          "name": "stdout",
          "text": [
            "I enjoy the smooth, effortless glide of this amazing, sleek, and beautiful car as it drives across the road.\n"
          ]
        }
      ],
      "source": [
        "avg_sentence = gpt_summarizer.average_sentences([\n",
        "    'I love the way the car drives.',\n",
        "    'The car drives so smoothly.',\n",
        "    'The car glides across the road effortlessly.',\n",
        "    'This car is amazing.',\n",
        "    'The car is sleek and beautiful.'\n",
        "])\n",
        "\n",
        "print(avg_sentence)"
      ]
    },
    {
      "cell_type": "markdown",
      "metadata": {
        "id": "qpgJVpIisirI"
      },
      "source": [
        "Try out the abstractive text summarizer"
      ]
    },
    {
      "cell_type": "code",
      "execution_count": null,
      "metadata": {
        "id": "v5A08JFTsirI"
      },
      "outputs": [],
      "source": [
        "input_text = \"\"\"\n",
        "Wait, start at the beginning. Of everything.\n",
        "The Big Bang theory says that the universe came into being from a single, unimaginably hot and dense point (aka, a singularity) more than 13 billion years ago. It didn’t occur in an already existing space. Rather, it initiated the expansion—and cooling—of space itself.\n",
        "\n",
        "Why stand behind this theory?\n",
        "It accounts for many of the things astronomers see through ground- and space-based telescopes. It explains why other galaxies are moving away from us as space continues to expand. It accounts for a faint glow seen everywhere in the universe. (The glow is the leftover heat from the universe’s birth, now cooled to just a few degrees above absolute zero.) In short, it’s a remarkably powerful and elegant explanation of how the observable universe came to be.\n",
        "\n",
        "Anything else?\n",
        "The theory accounts for the creation of the lightest elements in the universe—hydrogen, helium, and lithium—from which all heavier elements were forged in stars and supernovas. An extension of the Big Bang, known as cosmic inflation, even explains why the universe is so homogeneous (evenly composed) and how galaxies are distributed across space.\n",
        "\n",
        "Cosmic inflation? Sounds bad.\n",
        "Not that kind of inflation. Many features of today’s universe make sense if space underwent an extraordinary expansion very early in its history. According to inflation theory, the universe expanded dramatically a tiny fraction of a second after the Big Bang, driven by fantastic quantities of energy contained in space itself. After this period of inflation, the universe continued to expand and cool, but at a far slower pace.\n",
        "\n",
        "Inflation stretched space out so quickly that it became extremely uniform. But space is not completely homogeneous. Small fluctuations in the density of matter present in the very early universe were massively amplified during inflation. These density fluctuations eventually created the large-scale structure of the universe, including great sheets, bubbles, and clusters of galaxies.\n",
        "\n",
        "That’s the start. What about how the universe will end?\n",
        "The concept of a Big Bang doesn’t indicate whether the universe will continue to expand and cool or whether it will eventually contract to another super-hot singularity, perhaps restarting the entire cycle. The ultimate fate of the universe likely depends on the properties of two mysterious phenomena known as dark matter and dark energy. Further study of both could reveal whether the universe will end in fire—or ice.\n",
        "\n",
        "Dark what now?\n",
        "All familiar matter—Earth, the rest of the solar system, stars, galaxies, and interstellar gas—accounts for only about one-sixth of the mass of the universe. Scientists can see the effects of the rest of the universe’s mass, which they call dark matter. Its presence in galaxies makes them rotate more quickly than if only normal matter were there, and high concentrations of it noticeably bend light coming from far away. But its nature remains a mystery.\n",
        "\n",
        "So what is it?\n",
        "Dark matter may consist of elementary particles created in the Big Bang but not yet detected on Earth. One reason physicists want to build more powerful particle accelerators is to search for these missing particles.\n",
        "\n",
        "Even more mysterious than dark matter is a force known as dark energy.\n",
        "\n",
        "Why do I hear Darth Vader breathing?\n",
        "This isn’t science fiction. Observations of distant supernovae suggest that space is permeated by an energy—called dark energy—that pushes objects apart, just as two positive electric charges repel each other. This mysterious entity, which accounts for more than 70% of the energy content of the universe, may be related to the energy that caused inflation.\n",
        "\n",
        "But today virtually nothing is known about what dark energy is or how it exerts its effects on matter. Explaining it may require entirely new concepts of space and time.\n",
        "\n",
        "How have astronomers learned about the early universe?\n",
        "When astronomers look through a telescope, they are looking back in time. They see the Andromeda galaxy, the nearest major galaxy to ours, not as it is today but as it was more than 2 million years ago, because that’s how long it has taken the galaxy’s light to travel through space to Earth.\n",
        "\n",
        "Other galaxies are much farther away in space and time. The Hubble Space Telescope can see galaxies that are more than 13 billion years old and formed not long after the Big Bang. Observations have been made of the cosmic microwave background, the faint glow left over from the Big Bang, that help to get a picture of what the early universe was like, especially before those first stars formed.\n",
        "\n",
        "Where do we go from here?\n",
        "Astronomers are now planning a suite of new space- and ground-based telescopes and smaller-scale equipment and research. With these tools, they plan to study dark matter and dark energy, the black holes at the center of galaxies, the formation of planets like Earth around other stars, and many other aspects of our astonishing universe.\n",
        "\"\"\"\n",
        "\n",
        "summarized_output_text = gpt_summarizer.summarize_text(input_text)"
      ]
    },
    {
      "cell_type": "code",
      "execution_count": null,
      "metadata": {
        "id": "BP_BpF5TsirJ",
        "outputId": "0a68b8ca-7dee-4296-fcd8-4d4c019e97f3",
        "colab": {
          "base_uri": "https://localhost:8080/"
        }
      },
      "outputs": [
        {
          "output_type": "stream",
          "name": "stdout",
          "text": [
            "4951\n"
          ]
        }
      ],
      "source": [
        "print(len(input_text))"
      ]
    },
    {
      "cell_type": "code",
      "execution_count": null,
      "metadata": {
        "id": "9D69RikFsirK",
        "outputId": "8634ee4c-2eb4-4a45-c90b-a90ec27ef8c6",
        "colab": {
          "base_uri": "https://localhost:8080/"
        }
      },
      "outputs": [
        {
          "output_type": "stream",
          "name": "stdout",
          "text": [
            "565\n"
          ]
        }
      ],
      "source": [
        "print(len(summarized_output_text))"
      ]
    },
    {
      "cell_type": "code",
      "execution_count": null,
      "metadata": {
        "id": "0WIBBv7PsirK",
        "outputId": "13b935ab-eeb9-42dc-be8c-3aed76d102f0",
        "colab": {
          "base_uri": "https://localhost:8080/"
        }
      },
      "outputs": [
        {
          "output_type": "execute_result",
          "data": {
            "text/plain": [
              "0.11411835992728742"
            ]
          },
          "metadata": {},
          "execution_count": 18
        }
      ],
      "source": [
        "len(summarized_output_text)/len(input_text)"
      ]
    },
    {
      "cell_type": "code",
      "execution_count": null,
      "metadata": {
        "id": "uaXB5_KusirK",
        "outputId": "2d4005d1-cad0-41df-f37d-644184162c0e",
        "colab": {
          "base_uri": "https://localhost:8080/"
        }
      },
      "outputs": [
        {
          "output_type": "stream",
          "name": "stdout",
          "text": [
            "The Big Bang theory explains the universe's origin from a hot, dense point over 13 billion years ago, initiating space expansion. It also accounts for the creation of elements and early universe structure. Cosmic inflation theory further explains the universe's homogeneity and expansion rate. Dark matter and dark energy remain mysterious, comprising most of the universe's energy content and exerting unknown effects. Astronomers study the early universe through telescopes and plan to learn more about dark matter, dark energy, black holes, and planet formation.\n"
          ]
        }
      ],
      "source": [
        "print(summarized_output_text)"
      ]
    },
    {
      "cell_type": "markdown",
      "metadata": {
        "id": "VVc6-efFsirK"
      },
      "source": [
        "Try out the method to consolidate titles/texts into one representative (using job titles as example here)"
      ]
    },
    {
      "cell_type": "code",
      "execution_count": null,
      "metadata": {
        "id": "fhzbGcFrsirK",
        "outputId": "3c12c0f3-624b-4c54-f95d-23476421acf3",
        "colab": {
          "base_uri": "https://localhost:8080/",
          "height": 35
        }
      },
      "outputs": [
        {
          "output_type": "execute_result",
          "data": {
            "text/plain": [
              "'The consolidated job title for the list is: Data Analyst.'"
            ],
            "application/vnd.google.colaboratory.intrinsic+json": {
              "type": "string"
            }
          },
          "metadata": {},
          "execution_count": 21
        }
      ],
      "source": [
        "gpt_summarizer.consolidate_job_titles([\n",
        "    \"Data Analyst\",\n",
        "    \"Data Anlyst\",\n",
        "    \"Data Analyst Manager\",\n",
        "    \"Analyst of data\",\n",
        "    \"Data Analyst II\"\n",
        "])\n",
        "\n",
        "\n"
      ]
    },
    {
      "cell_type": "code",
      "execution_count": null,
      "metadata": {
        "id": "R8RPvNTnsirL"
      },
      "outputs": [],
      "source": []
    }
  ],
  "metadata": {
    "kernelspec": {
      "display_name": "Python 3",
      "language": "python",
      "name": "python3"
    },
    "language_info": {
      "codemirror_mode": {
        "name": "ipython",
        "version": 3
      },
      "file_extension": ".py",
      "mimetype": "text/x-python",
      "name": "python",
      "nbconvert_exporter": "python",
      "pygments_lexer": "ipython3",
      "version": "3.10.11"
    },
    "colab": {
      "provenance": []
    }
  },
  "nbformat": 4,
  "nbformat_minor": 0
}